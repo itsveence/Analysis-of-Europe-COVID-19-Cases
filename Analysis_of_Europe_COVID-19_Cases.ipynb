{
 "cells": [
  {
   "cell_type": "markdown",
   "metadata": {},
   "source": [
    "# Analysing the daily reports"
   ]
  },
  {
   "cell_type": "code",
   "execution_count": null,
   "metadata": {
    "tags": []
   },
   "outputs": [],
   "source": [
    "import pandas as pd\n",
    "from glob import glob\n",
    "import numpy as np\n",
    "import panel as pn\n",
    "pn.extension(\"tabulator\")\n",
    "\n",
    "import hvplot.pandas\n",
    "import plotly.express as px\n",
    "import plotly.graph_objects as go\n",
    "\n",
    "import json\n"
   ]
  },
  {
   "cell_type": "code",
   "execution_count": null,
   "metadata": {},
   "outputs": [],
   "source": [
    "import plotly.io as pio\n",
    "# pio.renderers.default = \"browser\""
   ]
  },
  {
   "cell_type": "code",
   "execution_count": null,
   "metadata": {},
   "outputs": [],
   "source": [
    "def wrangler(file):\n",
    "    # Read csv file\n",
    "    df = pd.read_csv(file)\n",
    "\n",
    "    # Changes column name \"Case-Fatality_Ratio\" to \"Case_Fatality_Ratio\"\n",
    "    if \"Case-Fatality_Ratio\" in df.columns:\n",
    "        df.rename(columns={\"Case-Fatality_Ratio\": \"Case_Fatality_Ratio\"}, inplace=True)\n",
    "\n",
    "    # Changes column name \"Incidence_Rate\" to \"Incident_Rate\"\n",
    "    if \"Incidence_Rate\" in df.columns:\n",
    "        df.rename(columns={\"Incidence_Rate\": \"Incident_Rate\"}, inplace=True)\n",
    "        \n",
    "    # Europe Mask\n",
    "    european_countries = [\n",
    "    \"Albania\",\n",
    "    \"Andorra\",\n",
    "    \"Austria\",\n",
    "    \"Belarus\",\n",
    "    \"Belgium\",\n",
    "    \"Bosnia and Herzegovina\",\n",
    "    \"Bulgaria\",\n",
    "    \"Croatia\",\n",
    "    \"Cyprus\",\n",
    "    \"Czech Republic\",\n",
    "    \"Denmark\",\n",
    "    \"Estonia\",\n",
    "    \"Finland\",\n",
    "    \"France\",\n",
    "    \"Germany\",\n",
    "    \"Greece\",\n",
    "    \"Hungary\",\n",
    "    \"Iceland\",\n",
    "    \"Ireland\",\n",
    "    \"Italy\",\n",
    "    \"Kosovo\",\n",
    "    \"Latvia\",\n",
    "    \"Liechtenstein\",\n",
    "    \"Lithuania\",\n",
    "    \"Luxembourg\",\n",
    "    \"Malta\",\n",
    "    \"Moldova\",\n",
    "    \"Monaco\",\n",
    "    \"Montenegro\",\n",
    "    \"Netherlands\",\n",
    "    \"North Macedonia\",\n",
    "    \"Norway\",\n",
    "    \"Poland\",\n",
    "    \"Portugal\",\n",
    "    \"Romania\",\n",
    "    \"Russia\",\n",
    "    \"San Marino\",\n",
    "    \"Serbia\",\n",
    "    \"Slovakia\",\n",
    "    \"Slovenia\",\n",
    "    \"Spain\",\n",
    "    \"Sweden\",\n",
    "    \"Switzerland\",\n",
    "    \"Ukraine\",\n",
    "    \"United Kingdom\",\n",
    "    \"Vatican City (Holy See)\",]\n",
    "\n",
    "    \n",
    "    \n",
    "    # Drop Incident_Rate column\n",
    "    if \"Incident_Rate\" in df.columns:\n",
    "        df.drop(columns=\"Incident_Rate\", inplace=True)\n",
    "\n",
    "    # Checks if dataframe start with \"FIPS\" and \"Admin2\" and \"Province_State\" columns to eliminate differently structured dataset\n",
    "    if \"FIPS\" and \"Admin2\" and \"Province_State\" in df.columns:\n",
    "        \n",
    "        euro_mask = df[\"Country_Region\"].isin(european_countries)\n",
    "        df = df[euro_mask]\n",
    "\n",
    "        # Drop columns \"FIPS\", \"Admin2\", \"Province_State\" \n",
    "        df.drop(columns=[\"FIPS\", \"Admin2\", \"Province_State\"], inplace=True)\n",
    "\n",
    "        # Drop rows with no coordinate data\n",
    "        df.dropna(subset=\"Lat\", inplace=True)\n",
    "\n",
    "        # Checks if column Case_Fatality_Ratio exists then populate the missing cells\n",
    "        if \"Case_Fatality_Ratio\" in df.columns:\n",
    "            df.drop(columns=\"Case_Fatality_Ratio\", inplace=True)\n",
    "        \n",
    "        # Converts Last_Update column to datetime and rest time to 00:00\n",
    "        df[\"Last_Update\"] = pd.to_datetime(pd.to_datetime(df[\"Last_Update\"]).dt.date)\n",
    "\n",
    "        # Returns cleaned dataset\n",
    "        return df"
   ]
  },
  {
   "cell_type": "code",
   "execution_count": null,
   "metadata": {},
   "outputs": [],
   "source": [
    "# Appends all datasets in the folder to a list\n",
    "files = glob(\"./COVID-19-master/csse_covid_19_data/csse_covid_19_daily_reports/*.csv\")"
   ]
  },
  {
   "cell_type": "code",
   "execution_count": null,
   "metadata": {},
   "outputs": [],
   "source": [
    "# Appends cleaned dataset to a list\n",
    "frames = []\n",
    "for file in files:\n",
    "    # print(file)\n",
    "    df = wrangler(file)\n",
    "    frames.append(df)"
   ]
  },
  {
   "cell_type": "code",
   "execution_count": null,
   "metadata": {},
   "outputs": [],
   "source": [
    "# Concatenate dataframes\n",
    "df = pd.concat(frames, ignore_index=True)\n",
    "df.shape"
   ]
  },
  {
   "cell_type": "code",
   "execution_count": null,
   "metadata": {},
   "outputs": [],
   "source": [
    "# Extract required columns and group data based on country and last-update\n",
    "df_new = df.groupby([\"Country_Region\", \"Last_Update\"])[[\"Confirmed\", \"Deaths\", \"Recovered\"]].max().reset_index()"
   ]
  },
  {
   "cell_type": "code",
   "execution_count": null,
   "metadata": {},
   "outputs": [],
   "source": [
    "df_new.describe()"
   ]
  },
  {
   "cell_type": "code",
   "execution_count": null,
   "metadata": {},
   "outputs": [],
   "source": [
    "boxplot = df_new.hvplot.box(y=\"Confirmed\", by=\"Country_Region\", height=400, width=1000, legend=False).opts(xrotation=90)\n",
    "boxplot"
   ]
  },
  {
   "cell_type": "code",
   "execution_count": null,
   "metadata": {},
   "outputs": [],
   "source": [
    "# Get data on country population\n",
    "pop_data = \"./COVID-19-master/csse_covid_19_data/UID_ISO_FIPS_LookUp_Table.csv\"\n",
    "pop_df = pd.read_csv(pop_data)\n",
    "pop_df = pop_df[[\"Country_Region\", \"Population\"]]"
   ]
  },
  {
   "cell_type": "code",
   "execution_count": null,
   "metadata": {},
   "outputs": [],
   "source": [
    "#Get data on population density\n",
    "popd = pd.read_csv(\"population-density.csv\")\n",
    "popd = popd[popd[\"Year\"] == 2023][[\"Entity\", \"Population density\"]]"
   ]
  },
  {
   "cell_type": "code",
   "execution_count": null,
   "metadata": {},
   "outputs": [],
   "source": [
    "popd.rename(columns={\"Entity\": \"Country_Region\", \"Population density\": \"population_density\"}, inplace=True)"
   ]
  },
  {
   "cell_type": "code",
   "execution_count": null,
   "metadata": {},
   "outputs": [],
   "source": [
    "# Merge population data with covid data\n",
    "df_new = pd.merge(df_new, pop_df, on=\"Country_Region\")"
   ]
  },
  {
   "cell_type": "code",
   "execution_count": null,
   "metadata": {},
   "outputs": [],
   "source": [
    "df_new = pd.merge(df_new, popd, on=\"Country_Region\")"
   ]
  },
  {
   "cell_type": "code",
   "execution_count": null,
   "metadata": {},
   "outputs": [],
   "source": [
    "df_new"
   ]
  },
  {
   "cell_type": "code",
   "execution_count": null,
   "metadata": {},
   "outputs": [],
   "source": [
    "idf = df_new.interactive()"
   ]
  },
  {
   "cell_type": "code",
   "execution_count": null,
   "metadata": {},
   "outputs": [],
   "source": [
    "datetime_picker = pn.widgets.DatetimePicker(name='Datetime Picker', value=df_new[\"Last_Update\"].min(), start=df_new[\"Last_Update\"].min(), end=df_new[\"Last_Update\"].max())\n",
    "\n",
    "datetime_picker"
   ]
  },
  {
   "cell_type": "code",
   "execution_count": null,
   "metadata": {},
   "outputs": [],
   "source": [
    "# Radio buttons for Confirmed Cases and Deaths\n",
    "yaxis_cases = pn.widgets.RadioButtonGroup(name=\"Y-Axis\", options=[\"Confirmed\", \"Deaths\", \"Recovered\"], button_type=\"success\")"
   ]
  },
  {
   "cell_type": "code",
   "execution_count": null,
   "metadata": {},
   "outputs": [],
   "source": [
    "covid_pipeline = (\n",
    "    idf[(idf[\"Last_Update\"] <= datetime_picker)]\n",
    "    .groupby([\"Last_Update\", \"Country_Region\",])[yaxis_cases].mean()\n",
    "    .to_frame()\n",
    "    .reset_index()\n",
    "    .sort_values(by=\"Last_Update\")\n",
    "    .reset_index(drop=True)\n",
    ")"
   ]
  },
  {
   "cell_type": "code",
   "execution_count": null,
   "metadata": {},
   "outputs": [],
   "source": [
    "covid_plot = covid_pipeline.hvplot(x = \"Last_Update\", by=\"Country_Region\", y = yaxis_cases, line_width=2, title=\"Number of Cases Over Time\")\n",
    "covid_plot"
   ]
  },
  {
   "cell_type": "code",
   "execution_count": null,
   "metadata": {},
   "outputs": [],
   "source": [
    "covid_table = covid_pipeline.pipe(pn.widgets.Tabulator, pagination=\"remote\", page_size = 10, sizing_mode=\"scale_both\")\n",
    "covid_table"
   ]
  },
  {
   "cell_type": "code",
   "execution_count": null,
   "metadata": {},
   "outputs": [],
   "source": [
    "covid_popd_pipeline = (\n",
    "    idf[(idf[\"Last_Update\"] == datetime_picker)]\n",
    "    .groupby([\"Last_Update\", \"Country_Region\"])[[yaxis_cases, \"population_density\"]].max()\n",
    "    .reset_index()\n",
    "    .sort_values(by=\"Last_Update\")\n",
    "    .reset_index(drop=True)\n",
    ")"
   ]
  },
  {
   "cell_type": "code",
   "execution_count": null,
   "metadata": {},
   "outputs": [],
   "source": [
    "covid_popd_scatterplot = covid_popd_pipeline.hvplot(x=yaxis_cases, y=\"population_density\", by=\"Country_Region\", size=80, kind=\"scatter\", alpha=0.7, legend=False, height=500, width=500)\n",
    "\n",
    "covid_popd_scatterplot"
   ]
  },
  {
   "cell_type": "code",
   "execution_count": null,
   "metadata": {},
   "outputs": [],
   "source": [
    "covid_pop_pipeline = (\n",
    "    idf[(idf[\"Last_Update\"] == datetime_picker)]\n",
    "    .groupby([\"Last_Update\", \"Country_Region\"])[[yaxis_cases, \"Population\"]].max()\n",
    "    .reset_index()\n",
    "    .sort_values(by=\"Last_Update\")\n",
    "    .reset_index(drop=True)\n",
    ")"
   ]
  },
  {
   "cell_type": "code",
   "execution_count": null,
   "metadata": {},
   "outputs": [],
   "source": [
    "covid_pop_scatterplot = covid_pop_pipeline.hvplot(x=yaxis_cases, y=\"Population\", by=\"Country_Region\", size=80, kind=\"scatter\", alpha=0.7, legend=False, height=500, width=500)\n",
    "\n",
    "covid_pop_scatterplot"
   ]
  },
  {
   "cell_type": "code",
   "execution_count": null,
   "metadata": {
    "tags": []
   },
   "outputs": [],
   "source": [
    "europe = json.load(open(\"maps/europe.geojson\"))"
   ]
  },
  {
   "cell_type": "code",
   "execution_count": null,
   "metadata": {},
   "outputs": [],
   "source": [
    "country_id = {}\n",
    "for feature in europe['features']:\n",
    "    feature['id'] = feature['properties']['NAME']\n",
    "    country_id[feature['properties'][\"NAME\"]] = feature['id']"
   ]
  },
  {
   "cell_type": "code",
   "execution_count": null,
   "metadata": {},
   "outputs": [],
   "source": [
    "df_new[\"year\"] = pd.to_datetime(df_new[\"Last_Update\"]).dt.year"
   ]
  },
  {
   "cell_type": "code",
   "execution_count": null,
   "metadata": {},
   "outputs": [],
   "source": [
    "df_new[\"month\"] = pd.to_datetime(df_new[\"Last_Update\"]).dt.month"
   ]
  },
  {
   "cell_type": "code",
   "execution_count": null,
   "metadata": {},
   "outputs": [],
   "source": [
    "df_new = df_new.sort_values(\"Last_Update\")"
   ]
  },
  {
   "cell_type": "code",
   "execution_count": null,
   "metadata": {},
   "outputs": [],
   "source": [
    "df_new"
   ]
  },
  {
   "cell_type": "code",
   "execution_count": null,
   "metadata": {},
   "outputs": [],
   "source": [
    "df_new = df_new.groupby([\"Country_Region\",\"year\", \"month\"]).max().reset_index().sort_values([\"year\", \"month\"])"
   ]
  },
  {
   "cell_type": "code",
   "execution_count": null,
   "metadata": {},
   "outputs": [],
   "source": [
    "df_new"
   ]
  },
  {
   "cell_type": "code",
   "execution_count": null,
   "metadata": {},
   "outputs": [],
   "source": [
    "# df_new['id'] = df_new['AREA'].apply(lambda x: country_id[x])\n",
    "df_new['id'] = [country_id[x['Country_Region']] if x[\"Country_Region\"] in country_id.keys() else None for _, x in df_new.iterrows()]"
   ]
  },
  {
   "cell_type": "code",
   "execution_count": null,
   "metadata": {},
   "outputs": [],
   "source": [
    "df_new = df_new[df_new[\"Country_Region\"].isin(country_id.keys())]"
   ]
  },
  {
   "cell_type": "code",
   "execution_count": null,
   "metadata": {},
   "outputs": [],
   "source": [
    "df_new = df_new.sort_values(['month','year'])"
   ]
  },
  {
   "cell_type": "code",
   "execution_count": null,
   "metadata": {
    "tags": []
   },
   "outputs": [],
   "source": [
    "fig = px.choropleth(\n",
    "    df_new, \n",
    "    locations=\"Country_Region\", \n",
    "    geojson=europe, \n",
    "    range_color=(df_new['Confirmed'].min(), df_new['Confirmed'].max()), \n",
    "    color=\"Confirmed\", \n",
    "#     height=1000,\n",
    "#     width=1500,\n",
    "    animation_frame=\"month\",\n",
    "    animation_group=\"Country_Region\",\n",
    "    scope=\"europe\",\n",
    "    color_continuous_scale=[\"#fffed3\", \"#FF0000\"],\n",
    "    title=f\"Number of Confirmed COVID Cases in Europe\",\n",
    "    facet_col=\"year\",\n",
    "    facet_col_wrap=2,\n",
    "\n",
    ")"
   ]
  },
  {
   "cell_type": "code",
   "execution_count": null,
   "metadata": {
    "scrolled": true
   },
   "outputs": [],
   "source": [
    "fig.update_geos(fitbounds='locations')\n",
    "fig.update_layout(\n",
    "    autosize=True\n",
    ")\n",
    "# fig.update_layout(margin={\"r\": 10, \"t\": 10, \"l\": 10, \"b\": 10})\n",
    "# fig.show()"
   ]
  },
  {
   "cell_type": "code",
   "execution_count": null,
   "metadata": {},
   "outputs": [],
   "source": [
    "# Layout using template\n",
    "template = pn.template.FastListTemplate(\n",
    "    title = \"Insight on COVID-19 Cases in Europe\",\n",
    "    sidebar = [\n",
    "        pn.pane.Markdown(\"# Relationship Between Population Size and Reported Number of COVID-19 Cases in Europe\"),\n",
    "        pn.pane.Markdown(\"#### Our comprehensive data analysis project on COVID-19 cases across Europe has revealed insightful findings, particularly concerning the relationship between a country's population size and its reported number of COVID-19 cases. Notably, we found a positive correlation between these two variables. This suggests that countries with larger populations have generally reported a higher number of COVID-19 cases. For instance, heavily populated countries like Germany, the United Kingdom, and France have consistently reported higher case numbers in comparison to smaller nations such as Luxembourg and Malta. However, it's important to emphasize that this analysis does not take into account other potentially influential factors such as testing rates, public health policy measures, or population density. Consequently, while a positive correlation was observed, further analysis would be needed to ascertain the cause-and-effect relationship and account for these additional factors. Nonetheless, this study provides a useful starting point for understanding the broad impact of the COVID-19 pandemic across Europe.\"),\n",
    "        pn.pane.PNG(\"europe-corona-covid.png\", sizing_mode=\"scale_both\"),\n",
    "        pn.pane.Markdown(\"## Settings\"),\n",
    "        datetime_picker\n",
    "    ],\n",
    "    main=[\n",
    "        pn.Row(pn.Column(yaxis_cases, covid_plot.panel(sizing_mode=\"scale_both\"), margin=(0,25)), covid_table.panel(sizing_mode=\"scale_both\")),\n",
    "        pn.Row(pn.Column(covid_pop_scatterplot.panel(sizing_mode=\"scale_both\"), margin=(0,25)),\n",
    "              pn.Column(covid_popd_scatterplot.panel(sizing_mode=\"scale_both\"), margin=(0,25))),\n",
    "        pn.Row(pn.pane.Plotly(fig, sizing_mode='stretch_width'), height=1000)\n",
    "    ],\n",
    "    accent_base_color=\"#88d8b0\",\n",
    "    header_background=\"#88d8b0\"\n",
    ")\n",
    "\n",
    "template.servable();"
   ]
  },
  {
   "cell_type": "markdown",
   "metadata": {},
   "source": [
    "# Interactive Dashboard for this Project\n",
    "\n",
    "Run the code below in your terminal to open the dashboard:\n",
    "\n",
    "*panel serve Analysis_of_Europe_COVID-19_Cases.ipynb*\n",
    "\n",
    "\n",
    "![Project_Screenshot](https://github.com/itsveence/Analysis-of-Europe-COVID-19-Cases/assets/20642373/a5f4434d-5cdb-49e2-942b-21d5bbde08df)"
   ]
  },
  {
   "cell_type": "code",
   "execution_count": null,
   "metadata": {},
   "outputs": [],
   "source": []
  }
 ],
 "metadata": {
  "kernelspec": {
   "display_name": "Python 3 (ipykernel)",
   "language": "python",
   "name": "python3"
  },
  "language_info": {
   "codemirror_mode": {
    "name": "ipython",
    "version": 3
   },
   "file_extension": ".py",
   "mimetype": "text/x-python",
   "name": "python",
   "nbconvert_exporter": "python",
   "pygments_lexer": "ipython3",
   "version": "3.10.9"
  }
 },
 "nbformat": 4,
 "nbformat_minor": 4
}
